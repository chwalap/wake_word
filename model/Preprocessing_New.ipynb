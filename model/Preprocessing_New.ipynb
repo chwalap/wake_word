{
 "cells": [
  {
   "cell_type": "code",
   "execution_count": 1,
   "id": "e49b6e4b",
   "metadata": {
    "ExecuteTime": {
     "end_time": "2023-05-22T20:43:02.263259Z",
     "start_time": "2023-05-22T20:42:59.908051Z"
    },
    "scrolled": true
   },
   "outputs": [
    {
     "name": "stdout",
     "output_type": "stream",
     "text": [
      "Tensorflow v2.12.0\n"
     ]
    }
   ],
   "source": [
    "# todo: clean up imports\n",
    "\n",
    "import tensorflow as tf\n",
    "from tensorflow.data import Dataset\n",
    "from tensorflow.python.ops import gen_audio_ops\n",
    "import python_speech_features\n",
    "\n",
    "import numpy as np\n",
    "import matplotlib.pyplot as plt\n",
    "import matplotlib.gridspec as gridspec\n",
    "import librosa as rosa\n",
    "\n",
    "from IPython.display import display, Audio, HTML\n",
    "from tqdm.notebook import tqdm\n",
    "\n",
    "import random\n",
    "import os\n",
    "import glob\n",
    "\n",
    "print(f'Tensorflow v{tf.__version__}')"
   ]
  },
  {
   "cell_type": "code",
   "execution_count": 2,
   "id": "d27685b6",
   "metadata": {
    "ExecuteTime": {
     "end_time": "2023-05-22T20:43:02.267533Z",
     "start_time": "2023-05-22T20:43:02.264433Z"
    },
    "scrolled": true
   },
   "outputs": [],
   "source": [
    "DATA_DIR = os.path.join('.', 'data')\n",
    "words_dirs = [d for d in os.listdir(DATA_DIR) if os.path.isdir(os.path.join(DATA_DIR, d)) and not d.startswith('_')]\n",
    "print(words_dirs)\n",
    "\n",
    "TARGET_WORD = 'komputer'\n",
    "TARGET_LABEL = 1.0\n",
    "NOT_TARGET_LABEL = 0.0\n",
    "\n",
    "OTHER_WORDS = list(filter(lambda w: w != TARGET_WORD, words_dirs))\n",
    "\n",
    "SAMPLE_RATE = 16000\n",
    "WINDOW_SIZE = 320\n",
    "WINDOW_STEP = 160\n",
    "WINDOW_LENGTH_IN_MS = WINDOW_SIZE / SAMPLE_RATE\n",
    "WINDOW_STEP_IN_MS = WINDOW_STEP / SAMPLE_RATE\n",
    "\n",
    "VOICE_THRESHOLD = 0.2\n",
    "BG_VOLUME = 0.1\n",
    "POOLING_SIZE = [1, 6]\n",
    "\n",
    "NO_AUDIO_SHIFTS = 2\n",
    "NO_BG_MIXED = 1\n",
    "NO_FREQ_MASK_SPECS = 1\n",
    "NO_TIME_MASK_SPECS = 1\n",
    "MASK_MAX_WIDTH = 3\n",
    "\n",
    "DEBUG = False\n",
    "PLOT_SIZE = (10, 4)\n"
   ]
  },
  {
   "cell_type": "code",
   "execution_count": 3,
   "id": "bf2db6b7",
   "metadata": {
    "ExecuteTime": {
     "end_time": "2023-05-22T20:43:02.272338Z",
     "start_time": "2023-05-22T20:43:02.268355Z"
    },
    "scrolled": true
   },
   "outputs": [],
   "source": [
    "def plot_audio(audio, ax=None, desc=None):\n",
    "    if not DEBUG:\n",
    "        return\n",
    "\n",
    "    if desc is not None:\n",
    "        display(HTML(f'<h1><center>{desc}</center></h1>'))\n",
    "    \n",
    "    axe = ax\n",
    "    if ax is None:\n",
    "        _, axe = plt.subplots(figsize=PLOT_SIZE)\n",
    "\n",
    "    axe.plot(audio)\n",
    "    axe.set_title('Audio wave')\n",
    "    axe.set_xlabel('Time')\n",
    "    axe.set_ylabel('Amplitude')\n",
    "    \n",
    "    if ax is None:\n",
    "        plt.show()\n",
    "\n",
    "\n",
    "def plot_spec(spec, ax=None, desc=None):\n",
    "    if not DEBUG:\n",
    "        return\n",
    "\n",
    "    if desc is not None:\n",
    "        display(HTML(f'<h1><center>{desc}</center></h1>'))\n",
    "\n",
    "    axe = ax\n",
    "    if ax is None:\n",
    "        _, axe = plt.subplots(figsize=PLOT_SIZE)\n",
    "\n",
    "    spec = np.squeeze(spec)\n",
    "    im = axe.imshow(spec, aspect='auto', origin='lower', cmap='jet')\n",
    "    axe.figure.colorbar(im, ax=axe, label='Magnitude')\n",
    "    axe.set_title('Spectrogram')\n",
    "    axe.set_xlabel('Time')\n",
    "    axe.set_ylabel('Frequency')\n",
    "    \n",
    "    if ax is None:\n",
    "        plt.show()\n",
    "\n",
    "\n",
    "def debug_audio(audio, desc='Audio', feature_type='spec'):\n",
    "    if not DEBUG:\n",
    "        return\n",
    "\n",
    "    display(HTML(f'<h1><center>{desc}</center></h1>'))\n",
    "    fig, axes = plt.subplots(1, 2, figsize=PLOT_SIZE)\n",
    "    \n",
    "    if feature_type == 'mfcc':\n",
    "        mfcc = get_mfcc(audio)\n",
    "        plot_mfcc(mfcc, ax=axes[1])\n",
    "    elif feature_type == 'spec':\n",
    "        spec = get_spectrogram(audio)\n",
    "        print(spec.shape)\n",
    "        plot_spec(spec, ax=axes[1])\n",
    "\n",
    "    plot_audio(audio, ax=axes[0])\n",
    "    display(Audio(audio, rate=SAMPLE_RATE))\n",
    "\n",
    "    plt.tight_layout()\n",
    "    plt.subplots_adjust(wspace=0.3)\n",
    "    plt.show()\n"
   ]
  },
  {
   "cell_type": "code",
   "execution_count": 4,
   "id": "c311dc2c",
   "metadata": {
    "ExecuteTime": {
     "end_time": "2023-05-22T20:43:02.325747Z",
     "start_time": "2023-05-22T20:43:02.311903Z"
    },
    "scrolled": true
   },
   "outputs": [],
   "source": [
    "def begin_voice(audio):\n",
    "    \"\"\"\n",
    "        Move voice to the beginning of the recording.\n",
    "    \"\"\"\n",
    "    start, end = find_voice(audio)\n",
    "    start = max(0, start - 100)\n",
    "    end = min(SAMPLE_RATE, end + 100)\n",
    "    return cure_audio(audio[start:end])\n",
    "\n",
    "\n",
    "def find_voice(audio):\n",
    "    \"\"\"\n",
    "        Find voice start and end points in the audio.\n",
    "    \"\"\"\n",
    "\n",
    "    audio_abs = np.abs(audio)\n",
    "    start = np.argmax(audio_abs > VOICE_THRESHOLD)\n",
    "    end = len(audio_abs) - np.argmax(audio_abs[::-1] > VOICE_THRESHOLD) - 1\n",
    "    return start, end\n",
    "\n",
    "\n",
    "def time_stretch_audio(audios, r):\n",
    "    \"\"\"\n",
    "        Speed up or slow down provided audios by a given rate.\n",
    "    \"\"\"\n",
    "\n",
    "    res = []\n",
    "    for a in audios:\n",
    "        copy = rosa.effects.time_stretch(a, rate=r)\n",
    "        copy = cure_audio(copy)\n",
    "        res.append(copy)\n",
    "        debug_audio(copy, desc=f'Time stretched audio by rate {r}')\n",
    "    return res\n",
    "\n",
    "\n",
    "def pitch_shift_audio(audios, s):\n",
    "    \"\"\"\n",
    "        Shift pitch by the given number of half-tones in provided audios.\n",
    "    \"\"\"\n",
    "\n",
    "    res = []\n",
    "    for a in audios:\n",
    "        copy = rosa.effects.pitch_shift(a, sr=SAMPLE_RATE, n_steps=s)\n",
    "        copy = cure_audio(copy)\n",
    "        res.append(copy)\n",
    "        debug_audio(copy, desc=f'Pitch shifted audio by {s} half-tones')\n",
    "    return res\n",
    "\n",
    "\n",
    "def mix_audio(audios):\n",
    "    \"\"\"\n",
    "        Mix provided audios with background noise samples.\n",
    "    \"\"\"\n",
    "\n",
    "    res = []\n",
    "    for a in audios:\n",
    "        for i in range(NO_AUDIO_SHIFTS):\n",
    "            noise = bg_noises[random.randint(0, len(bg_noises) - 1)]\n",
    "            noise_start = random.randint(0, len(noise) - SAMPLE_RATE)\n",
    "            noise = noise[noise_start:noise_start + SAMPLE_RATE]\n",
    "            copy = a + noise\n",
    "            copy = cure_audio(copy)\n",
    "            res.append(copy)\n",
    "            debug_audio(copy, desc='Audio mixed with noise')\n",
    "    return res\n",
    "\n",
    "\n",
    "def shift_audio(audios):\n",
    "    \"\"\"\n",
    "        Shifts voice in provided audios.\n",
    "    \"\"\"\n",
    "\n",
    "    res = []\n",
    "    for a in audios:\n",
    "        start, end = find_voice(a)\n",
    "        silence_len = len(a) + start - end\n",
    "        silence_interval = silence_len // NO_AUDIO_SHIFTS\n",
    "        for i in range(NO_AUDIO_SHIFTS):\n",
    "            shift = (i + 1) * silence_interval\n",
    "            shift = shift - start if shift > start else -shift\n",
    "            copy = np.roll(a, shift)\n",
    "            copy = cure_audio(copy)\n",
    "            res.append(copy)\n",
    "            debug_audio(copy, desc=f'Audio shifted by {shift} samples')\n",
    "    return res\n",
    "\n",
    "\n",
    "def freq_mask(spec, value=None, width=MASK_MAX_WIDTH):\n",
    "    \"\"\"\n",
    "        Add the mean-value mask to the frequency dimension of the spectrogram.\n",
    "    \"\"\"\n",
    "\n",
    "    if value is None:\n",
    "        value = spec.mean()\n",
    "        \n",
    "    copy = spec.copy()\n",
    "    mel_channels = copy.shape[1]\n",
    "    w = random.randint(1, width)\n",
    "    f_start = random.randint(0, mel_channels - w)\n",
    "    f_end = random.randint(f_start + 1, f_start + w)\n",
    "    copy[:, f_start:f_end, :] = value\n",
    "    plot_spec(copy, desc='Frequency masked spectrogram')\n",
    "    return copy\n",
    "\n",
    "\n",
    "def time_mask(spec, value=None, width=MASK_MAX_WIDTH):\n",
    "    \"\"\"\n",
    "        Add the zero mask to the frequency dimension of the spectrogram.\n",
    "    \"\"\"\n",
    "\n",
    "    if value is None:\n",
    "        value = spec.mean()\n",
    "\n",
    "    copy = spec.copy()\n",
    "    time_channels = copy.shape[0]\n",
    "    w = random.randint(1, width)\n",
    "    t_start = random.randint(0, time_channels - w)\n",
    "    t_end = random.randint(t_start + 1, t_start + w)\n",
    "    copy[t_start:t_end, :, :] = value\n",
    "    plot_spec(copy, desc='Time masked spectrogram')\n",
    "    return copy\n",
    "\n",
    "\n",
    "def normalize_audio(audio):\n",
    "    \"\"\"\n",
    "        Normalize audio.\n",
    "    \"\"\"\n",
    "\n",
    "    audio = audio - np.mean(audio)\n",
    "    audio = audio / np.max(np.abs(audio))\n",
    "    return audio\n",
    "\n",
    "\n",
    "def cut_audio_length(audio, length=SAMPLE_RATE):\n",
    "    \"\"\"\n",
    "        Cut audio to SAMPLE_RATE length.\n",
    "    \"\"\"\n",
    "\n",
    "    audio_len = len(audio)\n",
    "    if audio_len < length:\n",
    "        audio = np.append(audio, np.zeros(length - audio_len))\n",
    "    audio = audio[:length]\n",
    "    return audio\n",
    "\n",
    "\n",
    "def cure_audio(audio):\n",
    "    \"\"\"\n",
    "        Make sure that audio's length is fixed to SAMPLE_RATE and normalize.\n",
    "    \"\"\"\n",
    "\n",
    "    audio = cut_audio_length(audio)\n",
    "    audio = normalize_audio(audio)\n",
    "    return np.array(audio)\n",
    "\n",
    "\n",
    "def get_spectrogram(audio):\n",
    "    \"\"\"\n",
    "        Generate a spectrogram for a given audio. Then apply pooling to reduce dimensions.\n",
    "    \"\"\"\n",
    "    \n",
    "    audio = cure_audio(audio)\n",
    "    audio = tf.expand_dims(audio, -1)\n",
    "    audio = tf.cast(audio[:], tf.float32)\n",
    "\n",
    "    spec = gen_audio_ops.audio_spectrogram(audio,\n",
    "                                           window_size=WINDOW_SIZE,\n",
    "                                           stride=WINDOW_STEP,\n",
    "                                           magnitude_squared=True).numpy()\n",
    "\n",
    "    spec = tf.expand_dims(spec, -1)\n",
    "    spec = tf.nn.pool(input=spec,\n",
    "                      window_shape=POOLING_SIZE,\n",
    "                      strides=POOLING_SIZE,\n",
    "                      pooling_type='AVG',\n",
    "                      padding='SAME')\n",
    "    spec = tf.squeeze(spec, axis=0)\n",
    "    spec = np.log(spec + np.finfo(float).eps)\n",
    "    return spec\n",
    "\n",
    "\n",
    "def process_file(file_path, repeats=1):\n",
    "    \"\"\"\n",
    "        Process a file sample by adding more filters to all the samples generated in previous steps.\n",
    "    \"\"\"\n",
    "\n",
    "    audio, _ = rosa.load(file_path, sr=SAMPLE_RATE, mono=True)\n",
    "    audio = cure_audio(audio)\n",
    "    debug_audio(audio, desc=f'Pure audio [{os.path.basename(file_path)}]')\n",
    "\n",
    "    all_samples = [audio]\n",
    "    stretched = []\n",
    "    pitched = []\n",
    "    \n",
    "    for r in [0.8, 1.2]:\n",
    "        stretched += time_stretch_audio(all_samples, r)\n",
    "    \n",
    "    for s in [-2, 2]:\n",
    "        pitched += pitch_shift_audio(all_samples, s)\n",
    "        \n",
    "    all_samples += stretched\n",
    "    all_samples += pitched\n",
    "    \n",
    "    for i in range(repeats):\n",
    "        shifted = shift_audio(all_samples)\n",
    "        all_samples += shifted\n",
    "\n",
    "        bg_mixxx = mix_audio(all_samples)\n",
    "        all_samples += bg_mixxx\n",
    "\n",
    "    specs = []\n",
    "    for s in all_samples:\n",
    "        spec = get_spectrogram(cure_audio(s))\n",
    "        specs.append(spec)\n",
    "\n",
    "        for i in range(repeats):\n",
    "            specs.append(freq_mask(spec))\n",
    "\n",
    "        for i in range(repeats):\n",
    "            specs.append(time_mask(spec))\n",
    "            \n",
    "    if DEBUG:\n",
    "        print(f'Generated {len(specs)} spectrograms!')\n",
    "\n",
    "    return specs"
   ]
  },
  {
   "cell_type": "code",
   "execution_count": 5,
   "id": "d6991c07",
   "metadata": {
    "ExecuteTime": {
     "end_time": "2023-05-22T20:43:03.130145Z",
     "start_time": "2023-05-22T20:43:03.125335Z"
    },
    "scrolled": true
   },
   "outputs": [],
   "source": [
    "spectrograms = []"
   ]
  },
  {
   "cell_type": "code",
   "execution_count": 7,
   "id": "31b96db5",
   "metadata": {
    "ExecuteTime": {
     "end_time": "2023-05-22T20:43:35.581923Z",
     "start_time": "2023-05-22T20:43:11.095060Z"
    },
    "scrolled": true
   },
   "outputs": [
    {
     "data": {
      "application/vnd.jupyter.widget-view+json": {
       "model_id": "d557928ef37e4e09be675fb0b7f9b641",
       "version_major": 2,
       "version_minor": 0
      },
      "text/plain": [
       "_bgnoise:   0%|          | 0/11 [00:00<?, ?it/s]"
      ]
     },
     "metadata": {},
     "output_type": "display_data"
    },
    {
     "name": "stdout",
     "output_type": "stream",
     "text": [
      "Metal device set to: Apple M1\n",
      "Created 12388 spectrograms for background noise\n"
     ]
    }
   ],
   "source": [
    "file_paths = glob.glob('data/_bgnoise/*.wav')\n",
    "progress_bar = tqdm(total=len(file_paths), desc='_bgnoise')\n",
    "bg_noises = []\n",
    "no_specs = 0\n",
    "\n",
    "for file_name in file_paths:\n",
    "    audio, _ = rosa.load(file_name, sr=SAMPLE_RATE, mono=True)\n",
    "    audio = normalize_audio(audio)\n",
    "    for i in range(0, len(audio) - SAMPLE_RATE, SAMPLE_RATE):\n",
    "        no_specs += 1\n",
    "        spectrograms.append((get_spectrogram(audio[i:i+SAMPLE_RATE]), NOT_TARGET_LABEL))\n",
    "    audio = BG_VOLUME * audio\n",
    "    debug_audio(audio, desc=f'Background noise [{file_name}]')\n",
    "    bg_noises.append(audio)\n",
    "    progress_bar.update()\n",
    "        \n",
    "print(f'Created {no_specs} spectrograms for background noise')"
   ]
  },
  {
   "cell_type": "code",
   "execution_count": 8,
   "id": "76824388",
   "metadata": {
    "ExecuteTime": {
     "end_time": "2023-05-22T20:45:52.720962Z",
     "start_time": "2023-05-22T20:43:39.062930Z"
    },
    "scrolled": true
   },
   "outputs": [
    {
     "data": {
      "application/vnd.jupyter.widget-view+json": {
       "model_id": "21b5d84f24e64baebae608e4bcc3e334",
       "version_major": 2,
       "version_minor": 0
      },
      "text/plain": [
       "_talking:   0%|          | 0/87 [00:00<?, ?it/s]"
      ]
     },
     "metadata": {},
     "output_type": "display_data"
    },
    {
     "name": "stdout",
     "output_type": "stream",
     "text": [
      "Created 70900 spectrograms for talking noise\n"
     ]
    }
   ],
   "source": [
    "file_paths = glob.glob('data/_talking/*.wav')\n",
    "progress_bar = tqdm(total=len(file_paths), desc='_talking')\n",
    "no_specs = 0\n",
    "\n",
    "for file_name in file_paths:\n",
    "    audio, _ = rosa.load(file_name, sr=SAMPLE_RATE, mono=True)\n",
    "    audio = normalize_audio(audio)\n",
    "    for i in range(0, len(audio) - SAMPLE_RATE, SAMPLE_RATE):\n",
    "        no_specs += 1\n",
    "        spectrograms.append((get_spectrogram(audio[i:i+SAMPLE_RATE]), NOT_TARGET_LABEL))\n",
    "    debug_audio(audio, desc=f'Talking noise [{file_name}]')\n",
    "    progress_bar.update()\n",
    "        \n",
    "print(f'Created {no_specs} spectrograms for talking noise')"
   ]
  },
  {
   "cell_type": "code",
   "execution_count": 9,
   "id": "ad7258b4",
   "metadata": {
    "ExecuteTime": {
     "end_time": "2023-05-22T20:46:30.811449Z",
     "start_time": "2023-05-22T20:45:55.571321Z"
    }
   },
   "outputs": [
    {
     "data": {
      "application/vnd.jupyter.widget-view+json": {
       "model_id": "49b74f58f5b84db394a0783f7143c953",
       "version_major": 2,
       "version_minor": 0
      },
      "text/plain": [
       "komputer:   0%|          | 0/329 [00:00<?, ?it/s]"
      ]
     },
     "metadata": {},
     "output_type": "display_data"
    },
    {
     "name": "stdout",
     "output_type": "stream",
     "text": [
      "Created 44415 spectrograms for komputer\n"
     ]
    }
   ],
   "source": [
    "file_paths = glob.glob(f'data/{TARGET_WORD}/*.wav')\n",
    "progress_bar = tqdm(total=len(file_paths), desc=TARGET_WORD)\n",
    "no_specs = 0\n",
    "\n",
    "for file_name in file_paths:\n",
    "    for s in process_file(file_name, 1):\n",
    "        no_specs += 1\n",
    "        spectrograms.append((s, TARGET_LABEL))\n",
    "    progress_bar.update()\n",
    "        \n",
    "print(f'Created {no_specs} spectrograms for {TARGET_WORD}')"
   ]
  },
  {
   "cell_type": "code",
   "execution_count": 11,
   "id": "15acf86e",
   "metadata": {
    "ExecuteTime": {
     "end_time": "2023-05-22T20:50:41.378585Z",
     "start_time": "2023-05-22T20:47:11.445496Z"
    },
    "scrolled": false
   },
   "outputs": [
    {
     "data": {
      "application/vnd.jupyter.widget-view+json": {
       "model_id": "e5c9204fb0fd4d168ebb4129b351ff5b",
       "version_major": 2,
       "version_minor": 0
      },
      "text/plain": [
       "right:   0%|          | 0/3778 [00:00<?, ?it/s]"
      ]
     },
     "metadata": {},
     "output_type": "display_data"
    },
    {
     "name": "stdout",
     "output_type": "stream",
     "text": [
      "Created 0 spectrograms for right\n"
     ]
    },
    {
     "data": {
      "application/vnd.jupyter.widget-view+json": {
       "model_id": "f60eb4e5f2ec4a2697e006595a2e45de",
       "version_major": 2,
       "version_minor": 0
      },
      "text/plain": [
       "eight:   0%|          | 0/3787 [00:00<?, ?it/s]"
      ]
     },
     "metadata": {},
     "output_type": "display_data"
    },
    {
     "name": "stdout",
     "output_type": "stream",
     "text": [
      "Created 0 spectrograms for eight\n"
     ]
    },
    {
     "data": {
      "application/vnd.jupyter.widget-view+json": {
       "model_id": "69b373ccfef545a5af3e40441c8cf6e9",
       "version_major": 2,
       "version_minor": 0
      },
      "text/plain": [
       "cat:   0%|          | 0/2031 [00:00<?, ?it/s]"
      ]
     },
     "metadata": {},
     "output_type": "display_data"
    },
    {
     "name": "stdout",
     "output_type": "stream",
     "text": [
      "Created 0 spectrograms for cat\n"
     ]
    },
    {
     "data": {
      "application/vnd.jupyter.widget-view+json": {
       "model_id": "201f726c6da64b908b85a202de7f6df3",
       "version_major": 2,
       "version_minor": 0
      },
      "text/plain": [
       "tree:   0%|          | 0/1759 [00:00<?, ?it/s]"
      ]
     },
     "metadata": {},
     "output_type": "display_data"
    },
    {
     "name": "stdout",
     "output_type": "stream",
     "text": [
      "Created 0 spectrograms for tree\n"
     ]
    },
    {
     "data": {
      "application/vnd.jupyter.widget-view+json": {
       "model_id": "3b926568028343a1bfb2878e15fae10a",
       "version_major": 2,
       "version_minor": 0
      },
      "text/plain": [
       "backward:   0%|          | 0/1664 [00:00<?, ?it/s]"
      ]
     },
     "metadata": {},
     "output_type": "display_data"
    },
    {
     "name": "stdout",
     "output_type": "stream",
     "text": [
      "Created 0 spectrograms for backward\n"
     ]
    },
    {
     "data": {
      "application/vnd.jupyter.widget-view+json": {
       "model_id": "76dc734fdcd740e8864baa2d61912ac0",
       "version_major": 2,
       "version_minor": 0
      },
      "text/plain": [
       "learn:   0%|          | 0/1575 [00:00<?, ?it/s]"
      ]
     },
     "metadata": {},
     "output_type": "display_data"
    },
    {
     "name": "stdout",
     "output_type": "stream",
     "text": [
      "Created 0 spectrograms for learn\n"
     ]
    },
    {
     "data": {
      "application/vnd.jupyter.widget-view+json": {
       "model_id": "c29ab70d31e84017b3437e48903a1cd5",
       "version_major": 2,
       "version_minor": 0
      },
      "text/plain": [
       "bed:   0%|          | 0/2014 [00:00<?, ?it/s]"
      ]
     },
     "metadata": {},
     "output_type": "display_data"
    },
    {
     "name": "stdout",
     "output_type": "stream",
     "text": [
      "Created 0 spectrograms for bed\n"
     ]
    },
    {
     "data": {
      "application/vnd.jupyter.widget-view+json": {
       "model_id": "e638fba6c48e436ba55c8edb671885c9",
       "version_major": 2,
       "version_minor": 0
      },
      "text/plain": [
       "happy:   0%|          | 0/2054 [00:00<?, ?it/s]"
      ]
     },
     "metadata": {},
     "output_type": "display_data"
    },
    {
     "name": "stdout",
     "output_type": "stream",
     "text": [
      "Created 0 spectrograms for happy\n"
     ]
    },
    {
     "data": {
      "application/vnd.jupyter.widget-view+json": {
       "model_id": "792ecc91ab3b47ac9c955761a004421e",
       "version_major": 2,
       "version_minor": 0
      },
      "text/plain": [
       "go:   0%|          | 0/3880 [00:00<?, ?it/s]"
      ]
     },
     "metadata": {},
     "output_type": "display_data"
    },
    {
     "name": "stdout",
     "output_type": "stream",
     "text": [
      "Created 0 spectrograms for go\n"
     ]
    },
    {
     "data": {
      "application/vnd.jupyter.widget-view+json": {
       "model_id": "e6c809f4c4a94e19be53d0ef4ad37d1e",
       "version_major": 2,
       "version_minor": 0
      },
      "text/plain": [
       "dog:   0%|          | 0/2128 [00:00<?, ?it/s]"
      ]
     },
     "metadata": {},
     "output_type": "display_data"
    },
    {
     "name": "stdout",
     "output_type": "stream",
     "text": [
      "Created 0 spectrograms for dog\n"
     ]
    },
    {
     "data": {
      "application/vnd.jupyter.widget-view+json": {
       "model_id": "a208780a6dc24bbc9b128c074c7df272",
       "version_major": 2,
       "version_minor": 0
      },
      "text/plain": [
       "no:   0%|          | 0/3941 [00:00<?, ?it/s]"
      ]
     },
     "metadata": {},
     "output_type": "display_data"
    },
    {
     "name": "stdout",
     "output_type": "stream",
     "text": [
      "Created 0 spectrograms for no\n"
     ]
    },
    {
     "data": {
      "application/vnd.jupyter.widget-view+json": {
       "model_id": "67005265490f470dae627300a052497b",
       "version_major": 2,
       "version_minor": 0
      },
      "text/plain": [
       "wow:   0%|          | 0/2123 [00:00<?, ?it/s]"
      ]
     },
     "metadata": {},
     "output_type": "display_data"
    },
    {
     "name": "stdout",
     "output_type": "stream",
     "text": [
      "Created 0 spectrograms for wow\n"
     ]
    },
    {
     "data": {
      "application/vnd.jupyter.widget-view+json": {
       "model_id": "ae82030f1a6144cc99f0261d68bc8657",
       "version_major": 2,
       "version_minor": 0
      },
      "text/plain": [
       "follow:   0%|          | 0/1579 [00:00<?, ?it/s]"
      ]
     },
     "metadata": {},
     "output_type": "display_data"
    },
    {
     "name": "stdout",
     "output_type": "stream",
     "text": [
      "Created 0 spectrograms for follow\n"
     ]
    },
    {
     "data": {
      "application/vnd.jupyter.widget-view+json": {
       "model_id": "4af756e6b83448d99637e24bd1b48fde",
       "version_major": 2,
       "version_minor": 0
      },
      "text/plain": [
       "nine:   0%|          | 0/3934 [00:00<?, ?it/s]"
      ]
     },
     "metadata": {},
     "output_type": "display_data"
    },
    {
     "name": "stdout",
     "output_type": "stream",
     "text": [
      "Created 0 spectrograms for nine\n"
     ]
    },
    {
     "data": {
      "application/vnd.jupyter.widget-view+json": {
       "model_id": "093501eeb0e64dc28f8d706818b37a30",
       "version_major": 2,
       "version_minor": 0
      },
      "text/plain": [
       "left:   0%|          | 0/3801 [00:00<?, ?it/s]"
      ]
     },
     "metadata": {},
     "output_type": "display_data"
    },
    {
     "name": "stdout",
     "output_type": "stream",
     "text": [
      "Created 0 spectrograms for left\n"
     ]
    },
    {
     "data": {
      "application/vnd.jupyter.widget-view+json": {
       "model_id": "e884bfa08d5c4f3a9ad5a9434b4bd053",
       "version_major": 2,
       "version_minor": 0
      },
      "text/plain": [
       "stop:   0%|          | 0/3872 [00:00<?, ?it/s]"
      ]
     },
     "metadata": {},
     "output_type": "display_data"
    },
    {
     "name": "stdout",
     "output_type": "stream",
     "text": [
      "Created 0 spectrograms for stop\n"
     ]
    },
    {
     "data": {
      "application/vnd.jupyter.widget-view+json": {
       "model_id": "6bd68b25c105449f8a0e0f2c60efa03c",
       "version_major": 2,
       "version_minor": 0
      },
      "text/plain": [
       "three:   0%|          | 0/3727 [00:00<?, ?it/s]"
      ]
     },
     "metadata": {},
     "output_type": "display_data"
    },
    {
     "name": "stdout",
     "output_type": "stream",
     "text": [
      "Created 0 spectrograms for three\n"
     ]
    },
    {
     "data": {
      "application/vnd.jupyter.widget-view+json": {
       "model_id": "c8bbd92a81bf4c67872af49870853c70",
       "version_major": 2,
       "version_minor": 0
      },
      "text/plain": [
       "sheila:   0%|          | 0/2022 [00:00<?, ?it/s]"
      ]
     },
     "metadata": {},
     "output_type": "display_data"
    },
    {
     "name": "stdout",
     "output_type": "stream",
     "text": [
      "Created 0 spectrograms for sheila\n"
     ]
    },
    {
     "data": {
      "application/vnd.jupyter.widget-view+json": {
       "model_id": "493b4d37cb684261bc5ae6b0ab0a4022",
       "version_major": 2,
       "version_minor": 0
      },
      "text/plain": [
       "one:   0%|          | 0/3890 [00:00<?, ?it/s]"
      ]
     },
     "metadata": {},
     "output_type": "display_data"
    },
    {
     "name": "stdout",
     "output_type": "stream",
     "text": [
      "Created 0 spectrograms for one\n"
     ]
    },
    {
     "data": {
      "application/vnd.jupyter.widget-view+json": {
       "model_id": "28e631e24fa24bf08c138f20f2162a74",
       "version_major": 2,
       "version_minor": 0
      },
      "text/plain": [
       "bird:   0%|          | 0/2064 [00:00<?, ?it/s]"
      ]
     },
     "metadata": {},
     "output_type": "display_data"
    },
    {
     "name": "stdout",
     "output_type": "stream",
     "text": [
      "Created 0 spectrograms for bird\n"
     ]
    },
    {
     "data": {
      "application/vnd.jupyter.widget-view+json": {
       "model_id": "69b0a4dd829047b7a30b404fdd9251a2",
       "version_major": 2,
       "version_minor": 0
      },
      "text/plain": [
       "zero:   0%|          | 0/4052 [00:00<?, ?it/s]"
      ]
     },
     "metadata": {},
     "output_type": "display_data"
    },
    {
     "name": "stdout",
     "output_type": "stream",
     "text": [
      "Created 0 spectrograms for zero\n"
     ]
    },
    {
     "data": {
      "application/vnd.jupyter.widget-view+json": {
       "model_id": "210589b9f98e48a5a7c7d6ca57c62911",
       "version_major": 2,
       "version_minor": 0
      },
      "text/plain": [
       "seven:   0%|          | 0/3998 [00:00<?, ?it/s]"
      ]
     },
     "metadata": {},
     "output_type": "display_data"
    },
    {
     "name": "stdout",
     "output_type": "stream",
     "text": [
      "Created 0 spectrograms for seven\n"
     ]
    },
    {
     "data": {
      "application/vnd.jupyter.widget-view+json": {
       "model_id": "460488b1a2d74709be43d241be854395",
       "version_major": 2,
       "version_minor": 0
      },
      "text/plain": [
       "up:   0%|          | 0/3723 [00:00<?, ?it/s]"
      ]
     },
     "metadata": {},
     "output_type": "display_data"
    },
    {
     "name": "stdout",
     "output_type": "stream",
     "text": [
      "Created 0 spectrograms for up\n"
     ]
    },
    {
     "data": {
      "application/vnd.jupyter.widget-view+json": {
       "model_id": "49da53ec56fc4357b3c3e676fbc1de40",
       "version_major": 2,
       "version_minor": 0
      },
      "text/plain": [
       "visual:   0%|          | 0/1592 [00:00<?, ?it/s]"
      ]
     },
     "metadata": {},
     "output_type": "display_data"
    },
    {
     "name": "stdout",
     "output_type": "stream",
     "text": [
      "Created 0 spectrograms for visual\n"
     ]
    },
    {
     "data": {
      "application/vnd.jupyter.widget-view+json": {
       "model_id": "6ac0c0b8cc944b9e9512510b25ba8c8a",
       "version_major": 2,
       "version_minor": 0
      },
      "text/plain": [
       "marvin:   0%|          | 0/2100 [00:00<?, ?it/s]"
      ]
     },
     "metadata": {},
     "output_type": "display_data"
    },
    {
     "name": "stdout",
     "output_type": "stream",
     "text": [
      "Created 0 spectrograms for marvin\n"
     ]
    },
    {
     "data": {
      "application/vnd.jupyter.widget-view+json": {
       "model_id": "614e41ed240c4e44a8b731388f340afb",
       "version_major": 2,
       "version_minor": 0
      },
      "text/plain": [
       "two:   0%|          | 0/3880 [00:00<?, ?it/s]"
      ]
     },
     "metadata": {},
     "output_type": "display_data"
    },
    {
     "name": "stdout",
     "output_type": "stream",
     "text": [
      "Created 0 spectrograms for two\n"
     ]
    },
    {
     "data": {
      "application/vnd.jupyter.widget-view+json": {
       "model_id": "5c0d9d795adf4043b7d7378cea042674",
       "version_major": 2,
       "version_minor": 0
      },
      "text/plain": [
       "house:   0%|          | 0/2113 [00:00<?, ?it/s]"
      ]
     },
     "metadata": {},
     "output_type": "display_data"
    },
    {
     "name": "stdout",
     "output_type": "stream",
     "text": [
      "Created 0 spectrograms for house\n"
     ]
    },
    {
     "data": {
      "application/vnd.jupyter.widget-view+json": {
       "model_id": "40929f5560794cae81109cb2153a36f5",
       "version_major": 2,
       "version_minor": 0
      },
      "text/plain": [
       "down:   0%|          | 0/3917 [00:00<?, ?it/s]"
      ]
     },
     "metadata": {},
     "output_type": "display_data"
    },
    {
     "name": "stdout",
     "output_type": "stream",
     "text": [
      "Created 0 spectrograms for down\n"
     ]
    },
    {
     "data": {
      "application/vnd.jupyter.widget-view+json": {
       "model_id": "928d7da7faa74be9815d99e8d497d9a0",
       "version_major": 2,
       "version_minor": 0
      },
      "text/plain": [
       "six:   0%|          | 0/3860 [00:00<?, ?it/s]"
      ]
     },
     "metadata": {},
     "output_type": "display_data"
    },
    {
     "name": "stdout",
     "output_type": "stream",
     "text": [
      "Created 0 spectrograms for six\n"
     ]
    },
    {
     "data": {
      "application/vnd.jupyter.widget-view+json": {
       "model_id": "7d212ce1ba3d49f49b64458f4dbba596",
       "version_major": 2,
       "version_minor": 0
      },
      "text/plain": [
       "yes:   0%|          | 0/4044 [00:00<?, ?it/s]"
      ]
     },
     "metadata": {},
     "output_type": "display_data"
    },
    {
     "name": "stdout",
     "output_type": "stream",
     "text": [
      "Created 0 spectrograms for yes\n"
     ]
    },
    {
     "data": {
      "application/vnd.jupyter.widget-view+json": {
       "model_id": "15e8eda3f13c4fe29ce52510e704df3c",
       "version_major": 2,
       "version_minor": 0
      },
      "text/plain": [
       "on:   0%|          | 0/3845 [00:00<?, ?it/s]"
      ]
     },
     "metadata": {},
     "output_type": "display_data"
    },
    {
     "name": "stdout",
     "output_type": "stream",
     "text": [
      "Created 0 spectrograms for on\n"
     ]
    },
    {
     "data": {
      "application/vnd.jupyter.widget-view+json": {
       "model_id": "b4b145d9409247f392634fa3057a74d1",
       "version_major": 2,
       "version_minor": 0
      },
      "text/plain": [
       "five:   0%|          | 0/4052 [00:00<?, ?it/s]"
      ]
     },
     "metadata": {},
     "output_type": "display_data"
    },
    {
     "name": "stdout",
     "output_type": "stream",
     "text": [
      "Created 0 spectrograms for five\n"
     ]
    },
    {
     "data": {
      "application/vnd.jupyter.widget-view+json": {
       "model_id": "465e50e2bbe644719e6e19fdcf403d1e",
       "version_major": 2,
       "version_minor": 0
      },
      "text/plain": [
       "forward:   0%|          | 0/1557 [00:00<?, ?it/s]"
      ]
     },
     "metadata": {},
     "output_type": "display_data"
    },
    {
     "name": "stdout",
     "output_type": "stream",
     "text": [
      "Created 0 spectrograms for forward\n"
     ]
    },
    {
     "data": {
      "application/vnd.jupyter.widget-view+json": {
       "model_id": "7b3b963ca3354b138d129da64da4782d",
       "version_major": 2,
       "version_minor": 0
      },
      "text/plain": [
       "off:   0%|          | 0/3745 [00:00<?, ?it/s]"
      ]
     },
     "metadata": {},
     "output_type": "display_data"
    },
    {
     "name": "stdout",
     "output_type": "stream",
     "text": [
      "Created 0 spectrograms for off\n"
     ]
    },
    {
     "data": {
      "application/vnd.jupyter.widget-view+json": {
       "model_id": "8283e38acfb94e259319d5d79455f49e",
       "version_major": 2,
       "version_minor": 0
      },
      "text/plain": [
       "four:   0%|          | 0/3728 [00:00<?, ?it/s]"
      ]
     },
     "metadata": {},
     "output_type": "display_data"
    },
    {
     "name": "stdout",
     "output_type": "stream",
     "text": [
      "Created 0 spectrograms for four\n"
     ]
    }
   ],
   "source": [
    "for word in OTHER_WORDS:\n",
    "    file_paths = glob.glob(f'data/{word}/*.wav')\n",
    "    progress_bar = tqdm(total=len(file_paths), desc=word)\n",
    "    no_specs = 0\n",
    "\n",
    "    for file_name in file_paths:\n",
    "        audio, _ = rosa.load(file_name, sr=SAMPLE_RATE, mono=True)\n",
    "        audio = cure_audio(audio)\n",
    "        debug_audio(audio, desc=f'Pure audio [{os.path.basename(file_name)}]')\n",
    "        spectrograms.append((get_spectrogram(audio), NOT_TARGET_LABEL))\n",
    "        debug_audio(audio, desc=f'Word {word} [{file_name}]')\n",
    "        progress_bar.update()\n",
    "\n",
    "    print(f'Created {no_specs} spectrograms for {word}')"
   ]
  },
  {
   "cell_type": "code",
   "execution_count": 16,
   "id": "e3423155",
   "metadata": {
    "ExecuteTime": {
     "end_time": "2023-05-22T20:52:35.111350Z",
     "start_time": "2023-05-22T20:52:34.376431Z"
    },
    "scrolled": true
   },
   "outputs": [],
   "source": [
    "random.shuffle(spectrograms)\n",
    "spectrograms = np.array(spectrograms)"
   ]
  },
  {
   "cell_type": "code",
   "execution_count": 25,
   "id": "cadd4520",
   "metadata": {
    "ExecuteTime": {
     "end_time": "2023-05-22T21:00:04.430070Z",
     "start_time": "2023-05-22T21:00:04.426228Z"
    },
    "scrolled": true
   },
   "outputs": [],
   "source": [
    "no_specs = len(spectrograms)\n",
    "no_train_samples = int(no_specs * 0.6)\n",
    "no_val_samples = int(no_specs * 0.2)\n",
    "\n",
    "ds = np.array_split(spectrograms, [no_train_samples, no_train_samples + no_val_samples])"
   ]
  },
  {
   "cell_type": "code",
   "execution_count": 26,
   "id": "a6c00565",
   "metadata": {
    "ExecuteTime": {
     "end_time": "2023-05-22T21:01:34.733584Z",
     "start_time": "2023-05-22T21:00:07.019295Z"
    }
   },
   "outputs": [],
   "source": [
    "# todo: add id to the data to identify the sample after training to egzamine failures\n",
    "# todo: save data separately: 'x':specs, 'y'=labels, 'id'=ids\n",
    "\n",
    "np.savez_compressed('train.npz', ds[0])\n",
    "np.savez_compressed('val.npz', ds[1])\n",
    "np.savez_compressed('test.npz', ds[2])"
   ]
  },
  {
   "cell_type": "code",
   "execution_count": null,
   "id": "4b947d58",
   "metadata": {},
   "outputs": [],
   "source": []
  }
 ],
 "metadata": {
  "kernelspec": {
   "display_name": "Python 3 (ipykernel)",
   "language": "python",
   "name": "python3"
  },
  "language_info": {
   "codemirror_mode": {
    "name": "ipython",
    "version": 3
   },
   "file_extension": ".py",
   "mimetype": "text/x-python",
   "name": "python",
   "nbconvert_exporter": "python",
   "pygments_lexer": "ipython3",
   "version": "3.10.11"
  }
 },
 "nbformat": 4,
 "nbformat_minor": 5
}
