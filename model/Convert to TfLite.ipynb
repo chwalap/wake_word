{
 "cells": [
  {
   "cell_type": "code",
   "execution_count": 14,
   "id": "e2a53cc8",
   "metadata": {
    "ExecuteTime": {
     "end_time": "2023-04-24T10:27:53.353757Z",
     "start_time": "2023-04-24T10:27:52.056778Z"
    }
   },
   "outputs": [
    {
     "name": "stderr",
     "output_type": "stream",
     "text": [
      "2023-04-24 12:27:52.487624: W tensorflow/compiler/mlir/lite/python/tf_tfl_flatbuffer_helpers.cc:364] Ignored output_format.\n",
      "2023-04-24 12:27:52.487738: W tensorflow/compiler/mlir/lite/python/tf_tfl_flatbuffer_helpers.cc:367] Ignored drop_control_dependency.\n",
      "fully_quantize: 0, inference_type: 6, input_inference_type: FLOAT32, output_inference_type: FLOAT32\n"
     ]
    },
    {
     "data": {
      "text/plain": [
       "56296"
      ]
     },
     "execution_count": 14,
     "metadata": {},
     "output_type": "execute_result"
    }
   ],
   "source": [
    "import tensorflow as tf\n",
    "import numpy as np\n",
    "\n",
    "def load_tfrecord_data(filename):\n",
    "    dataset = tf.data.TFRecordDataset(filename)\n",
    "    def parse_record(record):\n",
    "        feature_description = {\n",
    "            'spec': tf.io.FixedLenFeature([99, 43, 1], tf.float32),\n",
    "            'label': tf.io.FixedLenFeature([3], tf.float32)\n",
    "        }\n",
    "        example = tf.io.parse_single_example(record, feature_description)\n",
    "        return example['spec'], example['label']\n",
    "\n",
    "    dataset = dataset.map(parse_record).prefetch(tf.data.AUTOTUNE)\n",
    "    dataset = dataset.shuffle(buffer_size=1024, reshuffle_each_iteration=False)\n",
    "    num_samples = 535287 #sum(1 for _ in dataset)\n",
    "    \n",
    "    val_samples = int(np.floor(0.1 * num_samples))\n",
    "    test_samples = int(np.floor(0.1 * num_samples))\n",
    "    train_samples = num_samples - val_samples - test_samples\n",
    "\n",
    "    train_dataset = dataset.take(train_samples)\n",
    "    val_dataset = dataset.skip(train_samples).take(val_samples)\n",
    "    test_dataset = dataset.skip(train_samples + val_samples).take(test_samples)\n",
    "\n",
    "    return train_dataset, val_dataset, test_dataset\n",
    "\n",
    "train_dataset, _, _ = load_tfrecord_data(\"specs.tfrecord\")\n",
    "\n",
    "converter = tf.lite.TFLiteConverter.from_saved_model(\"trained.model\")\n",
    "converter.optimizations = [tf.lite.Optimize.DEFAULT]\n",
    "def representative_dataset_gen():\n",
    "    for data, _ in train_dataset.take(300):\n",
    "        yield [tf.dtypes.cast(tf.expand_dims(data, 0), tf.float32)]\n",
    "#     for d, l in train_dataset:\n",
    "#         # Get sample input data as a numpy array in a method of your choosing.\n",
    "#         yield [d, l]\n",
    "converter.representative_dataset = representative_dataset_gen\n",
    "converter.target_spec.supported_ops = [tf.lite.OpsSet.TFLITE_BUILTINS_INT8]\n",
    "tflite_quant_model = converter.convert()\n",
    "open(\"converted_model.tflite\", \"wb\").write(tflite_quant_model)"
   ]
  },
  {
   "cell_type": "code",
   "execution_count": 15,
   "id": "aaf3746e",
   "metadata": {
    "ExecuteTime": {
     "end_time": "2023-04-24T10:28:00.093670Z",
     "start_time": "2023-04-24T10:28:00.067154Z"
    }
   },
   "outputs": [],
   "source": [
    "interpreter = tf.lite.Interpreter(model_path=str(\"converted_model.tflite\"))\n",
    "interpreter.allocate_tensors()\n",
    "\n",
    "# complete_train_Y = np.concatenate((training_spectrogram['Y'], validation_spectrogram['Y'], test_spectrogram['Y']))\n",
    "input_details = interpreter.get_input_details()[0]\n",
    "output_details = interpreter.get_output_details()[0]\n"
   ]
  },
  {
   "cell_type": "code",
   "execution_count": 16,
   "id": "2f1a38c9",
   "metadata": {
    "ExecuteTime": {
     "end_time": "2023-04-24T10:28:03.261880Z",
     "start_time": "2023-04-24T10:28:02.180147Z"
    }
   },
   "outputs": [
    {
     "name": "stdout",
     "output_type": "stream",
     "text": [
      "0.996\n"
     ]
    }
   ],
   "source": [
    "good  = 0\n",
    "no_samples = 1000\n",
    "for data, label in train_dataset.take(no_samples):\n",
    "    data = tf.expand_dims(data, 0)\n",
    "    \n",
    "    interpreter.set_tensor(input_details[\"index\"], data)\n",
    "    interpreter.invoke()\n",
    "    output = interpreter.get_tensor(output_details[\"index\"])[0]\n",
    "    \n",
    "    good  = good + 1 if int(tf.argmax(label, axis=0)) == int(tf.argmax(output, axis=0)) else good\n",
    "\n",
    "print(good/no_samples)"
   ]
  },
  {
   "cell_type": "code",
   "execution_count": null,
   "id": "5cfb2ae7",
   "metadata": {},
   "outputs": [],
   "source": []
  }
 ],
 "metadata": {
  "kernelspec": {
   "display_name": "Python 3 (ipykernel)",
   "language": "python",
   "name": "python3"
  },
  "language_info": {
   "codemirror_mode": {
    "name": "ipython",
    "version": 3
   },
   "file_extension": ".py",
   "mimetype": "text/x-python",
   "name": "python",
   "nbconvert_exporter": "python",
   "pygments_lexer": "ipython3",
   "version": "3.10.11"
  }
 },
 "nbformat": 4,
 "nbformat_minor": 5
}
